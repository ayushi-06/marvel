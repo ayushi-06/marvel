{
 "cells": [
  {
   "cell_type": "code",
   "execution_count": 19,
   "metadata": {},
   "outputs": [],
   "source": [
    "import hashlib\n",
    "import requests\n",
    "import datetime\n",
    "import json\n",
    "import pandas as pd\n",
    "from pprint import pprint as pp"
   ]
  },
  {
   "cell_type": "code",
   "execution_count": 20,
   "metadata": {},
   "outputs": [],
   "source": [
    "## Activity 2"
   ]
  },
  {
   "cell_type": "code",
   "execution_count": 21,
   "metadata": {},
   "outputs": [],
   "source": [
    "import datetime\n",
    "timestamp = 1\n",
    "# pub_key = <specify your public keys>\n",
    "# private_key= <specify your private keys>\n"
   ]
  },
  {
   "cell_type": "code",
   "execution_count": 22,
   "metadata": {},
   "outputs": [],
   "source": [
    "def hasg_params():\n",
    "    \"\"\" Marvel API requires server side API calls to include \n",
    "    md5 hash of timestamp + public key + private key\"\"\"\n",
    "    hash_md5=hashlib.md5()\n",
    "    hash_md5.update((str(timestamp)+private_key+pub_key).encode())\n",
    "    hashed_params= hash_md5.hexdigest()\n",
    "    return hashed_params"
   ]
  },
  {
   "cell_type": "code",
   "execution_count": 23,
   "metadata": {},
   "outputs": [
    {
     "name": "stdout",
     "output_type": "stream",
     "text": [
      "083b373124f49bce25911a1a97616b25\n"
     ]
    }
   ],
   "source": [
    "print(hasg_params())"
   ]
  },
  {
   "cell_type": "code",
   "execution_count": 24,
   "metadata": {},
   "outputs": [],
   "source": [
    "header={'response content type':'application/json'}\n",
    "offsets = {0,100,200,300,400,500,600,700,800,900,1000,1100,1200,1300,1400}"
   ]
  },
  {
   "cell_type": "code",
   "execution_count": 25,
   "metadata": {},
   "outputs": [],
   "source": [
    "\n",
    "l=[]\n",
    "for o in offsets:\n",
    "    params={'ts':timestamp, 'apikey':pub_key, 'hash': hasg_params(), #'nameStartsWith':'hul',\n",
    "         'offset':o, 'limit':100}\n",
    "    res=requests.get('http://gateway.marvel.com/v1/public/characters', headers=header, params= params)\n",
    "    res_json =res.json() ## to get result in json format\n",
    "    \n",
    "    for item in res_json['data']['results']:\n",
    "        #setting default values:\n",
    "        d={'id':0, 'name':'', 'comics':0, 'stories':0, 'events':0,'series':0}\n",
    "        #setting actual values:\n",
    "        d['id']= item['id']\n",
    "        d['name']=item['name']\n",
    "        d['comics']=item['comics']['available']\n",
    "        d['stories']=item['stories']['available']\n",
    "        d['events']=item['events']['available']\n",
    "        d['series']=item['series']['available']\n",
    "        l.append(d)\n",
    "df=pd.DataFrame(l)\n"
   ]
  },
  {
   "cell_type": "code",
   "execution_count": 26,
   "metadata": {},
   "outputs": [
    {
     "data": {
      "text/html": [
       "<div>\n",
       "<style scoped>\n",
       "    .dataframe tbody tr th:only-of-type {\n",
       "        vertical-align: middle;\n",
       "    }\n",
       "\n",
       "    .dataframe tbody tr th {\n",
       "        vertical-align: top;\n",
       "    }\n",
       "\n",
       "    .dataframe thead th {\n",
       "        text-align: right;\n",
       "    }\n",
       "</style>\n",
       "<table border=\"1\" class=\"dataframe\">\n",
       "  <thead>\n",
       "    <tr style=\"text-align: right;\">\n",
       "      <th></th>\n",
       "      <th>id</th>\n",
       "      <th>name</th>\n",
       "      <th>comics</th>\n",
       "      <th>stories</th>\n",
       "      <th>events</th>\n",
       "      <th>series</th>\n",
       "    </tr>\n",
       "  </thead>\n",
       "  <tbody>\n",
       "    <tr>\n",
       "      <th>0</th>\n",
       "      <td>1011334</td>\n",
       "      <td>3-D Man</td>\n",
       "      <td>12</td>\n",
       "      <td>21</td>\n",
       "      <td>1</td>\n",
       "      <td>3</td>\n",
       "    </tr>\n",
       "    <tr>\n",
       "      <th>1</th>\n",
       "      <td>1017100</td>\n",
       "      <td>A-Bomb (HAS)</td>\n",
       "      <td>4</td>\n",
       "      <td>7</td>\n",
       "      <td>0</td>\n",
       "      <td>2</td>\n",
       "    </tr>\n",
       "    <tr>\n",
       "      <th>2</th>\n",
       "      <td>1009144</td>\n",
       "      <td>A.I.M.</td>\n",
       "      <td>51</td>\n",
       "      <td>54</td>\n",
       "      <td>0</td>\n",
       "      <td>34</td>\n",
       "    </tr>\n",
       "    <tr>\n",
       "      <th>3</th>\n",
       "      <td>1010699</td>\n",
       "      <td>Aaron Stack</td>\n",
       "      <td>14</td>\n",
       "      <td>27</td>\n",
       "      <td>0</td>\n",
       "      <td>3</td>\n",
       "    </tr>\n",
       "    <tr>\n",
       "      <th>4</th>\n",
       "      <td>1009146</td>\n",
       "      <td>Abomination (Emil Blonsky)</td>\n",
       "      <td>55</td>\n",
       "      <td>65</td>\n",
       "      <td>1</td>\n",
       "      <td>27</td>\n",
       "    </tr>\n",
       "    <tr>\n",
       "      <th>...</th>\n",
       "      <td>...</td>\n",
       "      <td>...</td>\n",
       "      <td>...</td>\n",
       "      <td>...</td>\n",
       "      <td>...</td>\n",
       "      <td>...</td>\n",
       "    </tr>\n",
       "    <tr>\n",
       "      <th>1495</th>\n",
       "      <td>1011243</td>\n",
       "      <td>Mandrill</td>\n",
       "      <td>1</td>\n",
       "      <td>1</td>\n",
       "      <td>1</td>\n",
       "      <td>1</td>\n",
       "    </tr>\n",
       "    <tr>\n",
       "      <th>1496</th>\n",
       "      <td>1009422</td>\n",
       "      <td>Mandroid</td>\n",
       "      <td>2</td>\n",
       "      <td>1</td>\n",
       "      <td>0</td>\n",
       "      <td>2</td>\n",
       "    </tr>\n",
       "    <tr>\n",
       "      <th>1497</th>\n",
       "      <td>1009423</td>\n",
       "      <td>Manta</td>\n",
       "      <td>9</td>\n",
       "      <td>5</td>\n",
       "      <td>1</td>\n",
       "      <td>7</td>\n",
       "    </tr>\n",
       "    <tr>\n",
       "      <th>1498</th>\n",
       "      <td>1011026</td>\n",
       "      <td>Mantis</td>\n",
       "      <td>52</td>\n",
       "      <td>58</td>\n",
       "      <td>4</td>\n",
       "      <td>15</td>\n",
       "    </tr>\n",
       "    <tr>\n",
       "      <th>1499</th>\n",
       "      <td>1009424</td>\n",
       "      <td>Marauders</td>\n",
       "      <td>22</td>\n",
       "      <td>25</td>\n",
       "      <td>2</td>\n",
       "      <td>15</td>\n",
       "    </tr>\n",
       "  </tbody>\n",
       "</table>\n",
       "<p>1500 rows × 6 columns</p>\n",
       "</div>"
      ],
      "text/plain": [
       "           id                        name  comics  stories  events  series\n",
       "0     1011334                     3-D Man      12       21       1       3\n",
       "1     1017100                A-Bomb (HAS)       4        7       0       2\n",
       "2     1009144                      A.I.M.      51       54       0      34\n",
       "3     1010699                 Aaron Stack      14       27       0       3\n",
       "4     1009146  Abomination (Emil Blonsky)      55       65       1      27\n",
       "...       ...                         ...     ...      ...     ...     ...\n",
       "1495  1011243                    Mandrill       1        1       1       1\n",
       "1496  1009422                    Mandroid       2        1       0       2\n",
       "1497  1009423                       Manta       9        5       1       7\n",
       "1498  1011026                      Mantis      52       58       4      15\n",
       "1499  1009424                   Marauders      22       25       2      15\n",
       "\n",
       "[1500 rows x 6 columns]"
      ]
     },
     "execution_count": 26,
     "metadata": {},
     "output_type": "execute_result"
    }
   ],
   "source": [
    "df"
   ]
  },
  {
   "cell_type": "code",
   "execution_count": 27,
   "metadata": {},
   "outputs": [],
   "source": [
    "## Activity 3\n",
    "from contextlib import nullcontext\n",
    "\n",
    "\n",
    "def fun_create_df(*args):\n",
    "    try:\n",
    "        if len(args)==4:\n",
    "            print(\"sufficient arguments passed, great!\")\n",
    "            l=[]\n",
    "            timestamp=args[0]\n",
    "            pub_key=args[1]\n",
    "            hash=args[2]\n",
    "            name_start_with=args[3]\n",
    "            for o in offsets:\n",
    "                params={'ts':timestamp, 'apikey':pub_key, 'hash': hash, 'nameStartsWith':name_start_with,\n",
    "                'offset':o, 'limit':100}\n",
    "                res=requests.get('http://gateway.marvel.com/v1/public/characters', headers=header, params= params)\n",
    "                res_json =res.json() ## to get result in json format\n",
    "                for item in res_json['data']['results']:\n",
    "                     #setting default values:\n",
    "                    d={'id':0, 'name':'', 'comics':0, 'stories':0, 'events':0,'series':0}\n",
    "                    #setting actual values:\n",
    "                    d['id']= item['id']\n",
    "                    d['name']=item['name']\n",
    "                    d['comics']=item['comics']['available']\n",
    "                    d['stories']=item['stories']['available']\n",
    "                    d['events']=item['events']['available']\n",
    "                    d['series']=item['series']['available']\n",
    "                    l.append(d)\n",
    "            df=pd.DataFrame(l)\n",
    "            return df\n",
    "        else:\n",
    "            print(\"Error!!!! Not enough arguments passed!\")\n",
    "    except TypeError as ays:\n",
    "        print(\"arguments missing\")\n",
    "\n"
   ]
  },
  {
   "cell_type": "code",
   "execution_count": 28,
   "metadata": {},
   "outputs": [
    {
     "name": "stdout",
     "output_type": "stream",
     "text": [
      "Error!!!! Not enough arguments passed!\n"
     ]
    }
   ],
   "source": [
    "dataframe_final= fun_create_df( pub_key, hasg_params(),'hul')\n",
    "dataframe_final\n"
   ]
  },
  {
   "cell_type": "code",
   "execution_count": 29,
   "metadata": {},
   "outputs": [
    {
     "name": "stdout",
     "output_type": "stream",
     "text": [
      "           id                        name  comics  stories  events  series\n",
      "0     1011334                     3-D Man      12       21       1       3\n",
      "1     1017100                A-Bomb (HAS)       4        7       0       2\n",
      "2     1009144                      A.I.M.      51       54       0      34\n",
      "3     1010699                 Aaron Stack      14       27       0       3\n",
      "4     1009146  Abomination (Emil Blonsky)      55       65       1      27\n",
      "...       ...                         ...     ...      ...     ...     ...\n",
      "1495  1011243                    Mandrill       1        1       1       1\n",
      "1496  1009422                    Mandroid       2        1       0       2\n",
      "1497  1009423                       Manta       9        5       1       7\n",
      "1498  1011026                      Mantis      52       58       4      15\n",
      "1499  1009424                   Marauders      22       25       2      15\n",
      "\n",
      "[1479 rows x 6 columns]\n"
     ]
    }
   ],
   "source": [
    "## Activity 4\n",
    "def filter_fun( df, col,condition,value):\n",
    "    if col == 'name':\n",
    "        condition ='start_with'\n",
    "        length=len(value)\n",
    "        return(df[df.name.str[:length]==value])\n",
    "    else:\n",
    "        if condition=='>':\n",
    "            dataframe2= df[df[col]> value]\n",
    "        elif condition =='<':\n",
    "            dataframe2= df[df[col]< value]\n",
    "        elif condition =='=':\n",
    "            dataframe2= df[df[col]== value]\n",
    "        else:\n",
    "            print('Invalid condition')\n",
    "\n",
    "    return dataframe2\n",
    "\n",
    "df2=filter_fun(df,'events','<',20)\n",
    "print(df2)"
   ]
  }
 ],
 "metadata": {
  "kernelspec": {
   "display_name": "Python 3.10.6 64-bit",
   "language": "python",
   "name": "python3"
  },
  "language_info": {
   "codemirror_mode": {
    "name": "ipython",
    "version": 3
   },
   "file_extension": ".py",
   "mimetype": "text/x-python",
   "name": "python",
   "nbconvert_exporter": "python",
   "pygments_lexer": "ipython3",
   "version": "3.10.6"
  },
  "orig_nbformat": 4,
  "vscode": {
   "interpreter": {
    "hash": "3196968d684371006099b3d55edeef8ed90365227a30deaef86e5d4aa8519be0"
   }
  }
 },
 "nbformat": 4,
 "nbformat_minor": 2
}
