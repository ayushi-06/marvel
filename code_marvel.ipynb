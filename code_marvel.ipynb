{
 "cells": [
  {
   "cell_type": "code",
   "execution_count": 2,
   "metadata": {},
   "outputs": [],
   "source": [
    "import hashlib\n",
    "import requests\n",
    "import datetime\n",
    "import json\n",
    "import pandas as pd\n",
    "from pprint import pprint as pp"
   ]
  },
  {
   "cell_type": "code",
   "execution_count": 3,
   "metadata": {},
   "outputs": [],
   "source": [
    "## Activity 2"
   ]
  },
  {
   "cell_type": "code",
   "execution_count": 4,
   "metadata": {},
   "outputs": [],
   "source": [
    "import datetime\n",
    "timestamp = datetime.datetime.now().strftime('%m/%d/%y %H:%M:%S')\n",
    "pub_key = '944f5f070b59ac0017e57b673e5de6c9'\n",
    "private_key='c21dd8423c54c39bafffae0e5ebcce864790fd46'\n"
   ]
  },
  {
   "cell_type": "code",
   "execution_count": 5,
   "metadata": {},
   "outputs": [],
   "source": [
    "def hasg_params():\n",
    "    \"\"\" Marvel API requires server side API calls to include \n",
    "    md5 hash of timestamp + public key + private key\"\"\"\n",
    "    hash_md5=hashlib.md5()\n",
    "    hash_md5.update((timestamp+private_key+pub_key).encode())\n",
    "    hashed_params= hash_md5.hexdigest()\n",
    "    return hashed_params"
   ]
  },
  {
   "cell_type": "code",
   "execution_count": 6,
   "metadata": {},
   "outputs": [],
   "source": [
    "header={'response content type':'application/json'}\n",
    "offsets = {0,100,200,300}"
   ]
  },
  {
   "cell_type": "code",
   "execution_count": 7,
   "metadata": {},
   "outputs": [],
   "source": [
    "\n",
    "l=[]\n",
    "for o in offsets:\n",
    "    params={'ts':timestamp, 'apikey':pub_key, 'hash': hasg_params(), #'nameStartsWith':'hul',\n",
    "         'offset':o, 'limit':100}\n",
    "    res=requests.get('http://gateway.marvel.com/v1/public/characters', headers=header, params= params)\n",
    "    res_json =res.json() ## to get result in json format\n",
    "    \n",
    "    for item in res_json['data']['results']:\n",
    "        #setting default values:\n",
    "        d={'id':0, 'name':'', 'comics':0, 'stories':0, 'events':0,'series':0}\n",
    "        #setting actual values:\n",
    "        d['id']= item['id']\n",
    "        d['name']=item['name']\n",
    "        d['comics']=item['comics']['available']\n",
    "        d['stories']=item['stories']['available']\n",
    "        d['events']=item['events']['available']\n",
    "        d['series']=item['series']['available']\n",
    "        l.append(d)\n",
    "df=pd.DataFrame(l)\n"
   ]
  },
  {
   "cell_type": "code",
   "execution_count": 8,
   "metadata": {},
   "outputs": [
    {
     "data": {
      "text/html": [
       "<div>\n",
       "<style scoped>\n",
       "    .dataframe tbody tr th:only-of-type {\n",
       "        vertical-align: middle;\n",
       "    }\n",
       "\n",
       "    .dataframe tbody tr th {\n",
       "        vertical-align: top;\n",
       "    }\n",
       "\n",
       "    .dataframe thead th {\n",
       "        text-align: right;\n",
       "    }\n",
       "</style>\n",
       "<table border=\"1\" class=\"dataframe\">\n",
       "  <thead>\n",
       "    <tr style=\"text-align: right;\">\n",
       "      <th></th>\n",
       "      <th>id</th>\n",
       "      <th>name</th>\n",
       "      <th>comics</th>\n",
       "      <th>stories</th>\n",
       "      <th>events</th>\n",
       "      <th>series</th>\n",
       "    </tr>\n",
       "  </thead>\n",
       "  <tbody>\n",
       "    <tr>\n",
       "      <th>0</th>\n",
       "      <td>1011334</td>\n",
       "      <td>3-D Man</td>\n",
       "      <td>12</td>\n",
       "      <td>21</td>\n",
       "      <td>1</td>\n",
       "      <td>3</td>\n",
       "    </tr>\n",
       "    <tr>\n",
       "      <th>1</th>\n",
       "      <td>1017100</td>\n",
       "      <td>A-Bomb (HAS)</td>\n",
       "      <td>4</td>\n",
       "      <td>7</td>\n",
       "      <td>0</td>\n",
       "      <td>2</td>\n",
       "    </tr>\n",
       "    <tr>\n",
       "      <th>2</th>\n",
       "      <td>1009144</td>\n",
       "      <td>A.I.M.</td>\n",
       "      <td>51</td>\n",
       "      <td>54</td>\n",
       "      <td>0</td>\n",
       "      <td>34</td>\n",
       "    </tr>\n",
       "    <tr>\n",
       "      <th>3</th>\n",
       "      <td>1010699</td>\n",
       "      <td>Aaron Stack</td>\n",
       "      <td>14</td>\n",
       "      <td>27</td>\n",
       "      <td>0</td>\n",
       "      <td>3</td>\n",
       "    </tr>\n",
       "    <tr>\n",
       "      <th>4</th>\n",
       "      <td>1009146</td>\n",
       "      <td>Abomination (Emil Blonsky)</td>\n",
       "      <td>55</td>\n",
       "      <td>65</td>\n",
       "      <td>1</td>\n",
       "      <td>27</td>\n",
       "    </tr>\n",
       "    <tr>\n",
       "      <th>...</th>\n",
       "      <td>...</td>\n",
       "      <td>...</td>\n",
       "      <td>...</td>\n",
       "      <td>...</td>\n",
       "      <td>...</td>\n",
       "      <td>...</td>\n",
       "    </tr>\n",
       "    <tr>\n",
       "      <th>395</th>\n",
       "      <td>1011333</td>\n",
       "      <td>Dakota North</td>\n",
       "      <td>20</td>\n",
       "      <td>21</td>\n",
       "      <td>1</td>\n",
       "      <td>6</td>\n",
       "    </tr>\n",
       "    <tr>\n",
       "      <th>396</th>\n",
       "      <td>1009259</td>\n",
       "      <td>Damage Control</td>\n",
       "      <td>18</td>\n",
       "      <td>18</td>\n",
       "      <td>0</td>\n",
       "      <td>7</td>\n",
       "    </tr>\n",
       "    <tr>\n",
       "      <th>397</th>\n",
       "      <td>1009453</td>\n",
       "      <td>Dani Moonstar</td>\n",
       "      <td>68</td>\n",
       "      <td>87</td>\n",
       "      <td>6</td>\n",
       "      <td>20</td>\n",
       "    </tr>\n",
       "    <tr>\n",
       "      <th>398</th>\n",
       "      <td>1010776</td>\n",
       "      <td>Danny Rand</td>\n",
       "      <td>1</td>\n",
       "      <td>1</td>\n",
       "      <td>0</td>\n",
       "      <td>1</td>\n",
       "    </tr>\n",
       "    <tr>\n",
       "      <th>399</th>\n",
       "      <td>1009262</td>\n",
       "      <td>Daredevil</td>\n",
       "      <td>1206</td>\n",
       "      <td>1911</td>\n",
       "      <td>17</td>\n",
       "      <td>302</td>\n",
       "    </tr>\n",
       "  </tbody>\n",
       "</table>\n",
       "<p>400 rows × 6 columns</p>\n",
       "</div>"
      ],
      "text/plain": [
       "          id                        name  comics  stories  events  series\n",
       "0    1011334                     3-D Man      12       21       1       3\n",
       "1    1017100                A-Bomb (HAS)       4        7       0       2\n",
       "2    1009144                      A.I.M.      51       54       0      34\n",
       "3    1010699                 Aaron Stack      14       27       0       3\n",
       "4    1009146  Abomination (Emil Blonsky)      55       65       1      27\n",
       "..       ...                         ...     ...      ...     ...     ...\n",
       "395  1011333                Dakota North      20       21       1       6\n",
       "396  1009259              Damage Control      18       18       0       7\n",
       "397  1009453               Dani Moonstar      68       87       6      20\n",
       "398  1010776                  Danny Rand       1        1       0       1\n",
       "399  1009262                   Daredevil    1206     1911      17     302\n",
       "\n",
       "[400 rows x 6 columns]"
      ]
     },
     "execution_count": 8,
     "metadata": {},
     "output_type": "execute_result"
    }
   ],
   "source": [
    "df"
   ]
  },
  {
   "cell_type": "code",
   "execution_count": 9,
   "metadata": {},
   "outputs": [],
   "source": [
    "## Activity 3\n",
    "from contextlib import nullcontext\n",
    "\n",
    "\n",
    "def fun_create_df(*args):\n",
    "    try:\n",
    "        if len(args)==4:\n",
    "            print(\"sufficient arguments passed, great!\")\n",
    "            l=[]\n",
    "            timestamp=args[0]\n",
    "            pub_key=args[1]\n",
    "            hash=args[2]\n",
    "            name_start_with=args[3]\n",
    "            for o in offsets:\n",
    "                params={'ts':timestamp, 'apikey':pub_key, 'hash': hash, 'nameStartsWith':name_start_with,\n",
    "                'offset':o, 'limit':100}\n",
    "                res=requests.get('http://gateway.marvel.com/v1/public/characters', headers=header, params= params)\n",
    "                res_json =res.json() ## to get result in json format\n",
    "    \n",
    "                for item in res_json['data']['results']:\n",
    "                     #setting default values:\n",
    "                    d={'id':0, 'name':'', 'comics':0, 'stories':0, 'events':0,'series':0}\n",
    "                    #setting actual values:\n",
    "                    d['id']= item['id']\n",
    "                    d['name']=item['name']\n",
    "                    d['comics']=item['comics']['available']\n",
    "                    d['stories']=item['stories']['available']\n",
    "                    d['events']=item['events']['available']\n",
    "                    d['series']=item['series']['available']\n",
    "                    l.append(d)\n",
    "            df=pd.DataFrame(l)\n",
    "            return df\n",
    "        else:\n",
    "            print(\"Error!!!! Not enough arguments passed!\")\n",
    "    except TypeError as ays:\n",
    "        print(\"arguments missing\")\n",
    "\n"
   ]
  },
  {
   "cell_type": "code",
   "execution_count": 10,
   "metadata": {},
   "outputs": [
    {
     "name": "stdout",
     "output_type": "stream",
     "text": [
      "Error!!!! Not enough arguments passed!\n"
     ]
    }
   ],
   "source": [
    "dataframe_final= fun_create_df( pub_key, hasg_params(),'hul')\n",
    "dataframe_final\n"
   ]
  },
  {
   "cell_type": "code",
   "execution_count": 11,
   "metadata": {},
   "outputs": [
    {
     "name": "stdout",
     "output_type": "stream",
     "text": [
      "          id                        name  comics  stories  events  series\n",
      "0    1011334                     3-D Man      12       21       1       3\n",
      "1    1017100                A-Bomb (HAS)       4        7       0       2\n",
      "2    1009144                      A.I.M.      51       54       0      34\n",
      "3    1010699                 Aaron Stack      14       27       0       3\n",
      "4    1009146  Abomination (Emil Blonsky)      55       65       1      27\n",
      "..       ...                         ...     ...      ...     ...     ...\n",
      "395  1011333                Dakota North      20       21       1       6\n",
      "396  1009259              Damage Control      18       18       0       7\n",
      "397  1009453               Dani Moonstar      68       87       6      20\n",
      "398  1010776                  Danny Rand       1        1       0       1\n",
      "399  1009262                   Daredevil    1206     1911      17     302\n",
      "\n",
      "[393 rows x 6 columns]\n"
     ]
    }
   ],
   "source": [
    "## Activity 4\n",
    "def filter_fun( df, col,condition,value):\n",
    "    if condition=='>':\n",
    "        dataframe2= df[df[col]> value]\n",
    "    elif condition =='<':\n",
    "        dataframe2= df[df[col]< value]\n",
    "    elif condition =='=':\n",
    "        dataframe2= df[df[col]== value]\n",
    "\n",
    "    return dataframe2\n",
    "\n",
    "df2=filter_fun(df,'events','<',20)\n",
    "print(df2)"
   ]
  },
  {
   "cell_type": "code",
   "execution_count": 12,
   "metadata": {},
   "outputs": [],
   "source": [
    "## Activity 5\n"
   ]
  }
 ],
 "metadata": {
  "kernelspec": {
   "display_name": "Python 3.10.6 64-bit",
   "language": "python",
   "name": "python3"
  },
  "language_info": {
   "codemirror_mode": {
    "name": "ipython",
    "version": 3
   },
   "file_extension": ".py",
   "mimetype": "text/x-python",
   "name": "python",
   "nbconvert_exporter": "python",
   "pygments_lexer": "ipython3",
   "version": "3.10.6"
  },
  "orig_nbformat": 4,
  "vscode": {
   "interpreter": {
    "hash": "3196968d684371006099b3d55edeef8ed90365227a30deaef86e5d4aa8519be0"
   }
  }
 },
 "nbformat": 4,
 "nbformat_minor": 2
}
